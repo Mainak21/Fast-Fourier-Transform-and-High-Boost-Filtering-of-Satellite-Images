{
 "cells": [
  {
   "cell_type": "code",
   "execution_count": 1,
   "id": "8b674a49",
   "metadata": {},
   "outputs": [],
   "source": [
    "import numpy as np\n",
    "\n",
    "\n",
    "class logTransform:\n",
    "    def __init__(self, image):\n",
    "        self.image= image\n",
    "        self.output_img = np.zeros([image.shape[0],image.shape[1]], dtype=np.float32)\n",
    "        self.output_max_value = 255\n",
    "        self.input_max_value= np.max(image)\n",
    "        self.c =self.output_max_value/np.log10(self.input_max_value+1)\n",
    "\n",
    "    def logTransform(self,f):\n",
    "        g = self.c * np.log10(float(1 + f))     #c *log (1+x)\n",
    "        return g\n",
    "\n",
    "    def logTransformImage(self):\n",
    "        for i in range(0, self.image.shape[0]-1):\n",
    "            for j in range(0, self.image.shape[1]-1):\n",
    "                self.output_img[i][j]= self.logTransform(self.image[i][j])\n",
    "\n",
    "        return self.output_img"
   ]
  },
  {
   "cell_type": "code",
   "execution_count": null,
   "id": "824413db",
   "metadata": {},
   "outputs": [],
   "source": []
  }
 ],
 "metadata": {
  "kernelspec": {
   "display_name": "Python 3 (ipykernel)",
   "language": "python",
   "name": "python3"
  },
  "language_info": {
   "codemirror_mode": {
    "name": "ipython",
    "version": 3
   },
   "file_extension": ".py",
   "mimetype": "text/x-python",
   "name": "python",
   "nbconvert_exporter": "python",
   "pygments_lexer": "ipython3",
   "version": "3.8.6"
  }
 },
 "nbformat": 4,
 "nbformat_minor": 5
}
